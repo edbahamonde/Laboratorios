{
 "cells": [
  {
   "cell_type": "code",
   "execution_count": 1,
   "metadata": {},
   "outputs": [],
   "source": [
    "#Importación de librerías\n",
    "\n",
    "# Usada para la importación de los datos\n",
    "import pandas as pd\n",
    "# Usada para los cáculos\n",
    "import numpy as np\n",
    "\n",
    "# Para ver la similitud entre dos registros\n",
    "from sklearn.metrics.pairwise import cosine_similarity\n",
    "# Para crear una matriz dispersa\n",
    "from scipy.sparse import csr_matrix\n",
    "# Para los cálculos desde la matriz dispersa\n",
    "from scipy.sparse.linalg import svds\n",
    "\n",
    "# Calculo de KNN y accuracy\n",
    "from surprise import KNNWithMeans, Dataset, accuracy, Reader\n",
    "# Para separar los datos del entrenamiento\n",
    "from surprise.model_selection import train_test_split"
   ]
  },
  {
   "cell_type": "markdown",
   "metadata": {},
   "source": [
    "# Importación de los datos"
   ]
  },
  {
   "cell_type": "code",
   "execution_count": 2,
   "metadata": {},
   "outputs": [],
   "source": [
    "#Función para importar los datos\n",
    "def data():\n",
    "    df = pd.read_csv('data.csv')\n",
    "    df.shape\n",
    "    print(\"Dataset \\n\",df.head())\n",
    "    return df"
   ]
  },
  {
   "cell_type": "code",
   "execution_count": 3,
   "metadata": {},
   "outputs": [
    {
     "name": "stdout",
     "output_type": "stream",
     "text": [
      "Dataset \n",
      "    book_id  author_id  book_genre  reader_id  num_pages  book_rating  \\\n",
      "0      655         52           4      11482        300            4   \n",
      "1     2713         90           3       6479        469            1   \n",
      "2      409         17           2      25472        435            1   \n",
      "3     1150        234          10      23950        529            2   \n",
      "4     2424        390           5      13046        395            2   \n",
      "\n",
      "   publisher_id  publish_year  book_price  text_lang  \n",
      "0             8          2012          94          7  \n",
      "1             8          2012          33          5  \n",
      "2            12          2001         196          4  \n",
      "3            23          2019          79          2  \n",
      "4            20          2010         200          4  \n"
     ]
    }
   ],
   "source": [
    "df=data()"
   ]
  },
  {
   "cell_type": "markdown",
   "metadata": {},
   "source": [
    "# Método 1\n",
    "\n",
    "En este primer método se hace las recomendaciones a un usuario dependiendo las calificiones de otros usuarios."
   ]
  },
  {
   "cell_type": "code",
   "execution_count": 4,
   "metadata": {},
   "outputs": [],
   "source": [
    "# generar una tabla dinámica con lectores en el índice y libros en la columna y los valores son las calificaciones\n",
    "def dinamitable(df):\n",
    "    pt_df = df.pivot_table(\n",
    "        columns = 'book_id',\n",
    "        index = 'reader_id',\n",
    "        values = 'book_rating'\n",
    "    ).fillna(0)\n",
    "\n",
    "    # convertir a una matriz csr\n",
    "    mat = pt_df.values\n",
    "    mat = csr_matrix(mat)\n",
    "    return pt_df, mat"
   ]
  },
  {
   "cell_type": "code",
   "execution_count": 5,
   "metadata": {},
   "outputs": [],
   "source": [
    "# Función para normalizar la entrada de pred_ratings\n",
    "def normalize(pred_ratings):\n",
    "    return (pred_ratings - pred_ratings.min()) / (pred_ratings.max() - pred_ratings.min())"
   ]
  },
  {
   "cell_type": "code",
   "execution_count": 6,
   "metadata": {},
   "outputs": [],
   "source": [
    "# Función que calcula la descomposición del valor de la entrada de la matriz, también\n",
    "# genera y normaliza las predicciones de la calificación de los usuarios\n",
    "def generate_prediction_df(mat, pt_df, n_factors):\n",
    "    \n",
    "    if not 1 <= n_factors < min(mat.shape):\n",
    "        raise ValueError(\"Must be 1 <= n_factors < min(mat.shape)\")\n",
    "        \n",
    "    # Factorización de matriz\n",
    "    u, s, v = svds(mat, k = n_factors)\n",
    "    s = np.diag(s)\n",
    "\n",
    "    # Caclula la predicción de los ratings\n",
    "    pred_ratings = np.dot(np.dot(u, s), v) \n",
    "    pred_ratings = normalize(pred_ratings)\n",
    "    \n",
    "    # Convierte a df\n",
    "    pred_df = pd.DataFrame(\n",
    "        pred_ratings,\n",
    "        columns = pt_df.columns,\n",
    "        index = list(pt_df.index)\n",
    "    ).transpose()\n",
    "    return pred_df, pred_ratings"
   ]
  },
  {
   "cell_type": "code",
   "execution_count": 7,
   "metadata": {},
   "outputs": [],
   "source": [
    "# Función que dado el id del usuario y pred_df hará recomendaciones al usuario\n",
    "# Los parámetros son: pred_df que se generó en generate_prediction_df, el id del usuario, y el número de recomendaciones\n",
    "def recommend_items(pred_df, usr_id, n_recs):    \n",
    "    usr_pred = pred_df[usr_id].sort_values(ascending = False).reset_index().rename(columns = {usr_id : 'sim'})\n",
    "    rec_df = usr_pred.sort_values(by = 'sim', ascending = False).head(n_recs)\n",
    "    print(\"\\n Recomendaciones para el usuario con id:\",usr_id,\"\\n\", rec_df)"
   ]
  },
  {
   "cell_type": "code",
   "execution_count": 8,
   "metadata": {
    "scrolled": true
   },
   "outputs": [
    {
     "name": "stdout",
     "output_type": "stream",
     "text": [
      "Dataset \n",
      "    book_id  author_id  book_genre  reader_id  num_pages  book_rating  \\\n",
      "0      655         52           4      11482        300            4   \n",
      "1     2713         90           3       6479        469            1   \n",
      "2      409         17           2      25472        435            1   \n",
      "3     1150        234          10      23950        529            2   \n",
      "4     2424        390           5      13046        395            2   \n",
      "\n",
      "   publisher_id  publish_year  book_price  text_lang  \n",
      "0             8          2012          94          7  \n",
      "1             8          2012          33          5  \n",
      "2            12          2001         196          4  \n",
      "3            23          2019          79          2  \n",
      "4            20          2010         200          4  \n",
      "\n",
      " Recomendaciones para el usuario con id: 5 \n",
      "    book_id       sim\n",
      "0     1108  0.143244\n",
      "1     1839  0.140945\n",
      "2      725  0.140516\n",
      "3     1897  0.140497\n",
      "4     1341  0.140086\n"
     ]
    }
   ],
   "source": [
    "# Ejecución del código método 1\n",
    "df=data()\n",
    "pt_df, mat=dinamitable(df)\n",
    "pred_df, pred_ratings = generate_prediction_df(mat, pt_df, 10)\n",
    "normalize(pred_ratings)\n",
    "rec_df=recommend_items(pred_df, 5, 5)"
   ]
  },
  {
   "cell_type": "markdown",
   "metadata": {},
   "source": [
    "# Método 2\n",
    "\n",
    "En este segundo método se hace las recomendaciones de otros lectores similares a un lector."
   ]
  },
  {
   "cell_type": "code",
   "execution_count": 9,
   "metadata": {},
   "outputs": [],
   "source": [
    "# Crea una estructura.\n",
    "def estruc(df):\n",
    "    pt_df = df.pivot_table(\n",
    "        columns = 'book_id', \n",
    "        index = 'author_id', \n",
    "        values = 'book_rating'\n",
    "    ).fillna(0)\n",
    "    return pt_df"
   ]
  },
  {
   "cell_type": "code",
   "execution_count": 10,
   "metadata": {},
   "outputs": [],
   "source": [
    "# Función para encontrar lectores similares al lector pasado\n",
    "def find_similar_readers(pt_df, reader_id, n_recs):\n",
    "    \n",
    "    # separación del lector de los demás lectores\n",
    "    reader = pt_df[pt_df.index == reader_id]\n",
    "    other_readers = pt_df[pt_df.index != reader_id]\n",
    "\n",
    "    # obteniendo lectores similares a otros lectores\n",
    "    sim = cosine_similarity(reader, other_readers)[0].tolist()\n",
    "    idx = other_readers.index.tolist()\n",
    "\n",
    "    # crea un diccionario similar al de otros lectores\n",
    "    idx_sim = dict(zip(idx, sim))\n",
    "    idx_sim = sorted(idx_sim.items(), key=lambda x: x[1], reverse=True)\n",
    "\n",
    "    similar_readers = idx_sim[:n_recs]\n",
    "    readers = [rdr[0] for rdr in similar_readers]\n",
    "\n",
    "    print(\"\\n Lectores similares, al lector con id:\",reader_id,\" \\n\", readers)"
   ]
  },
  {
   "cell_type": "code",
   "execution_count": 11,
   "metadata": {},
   "outputs": [
    {
     "name": "stdout",
     "output_type": "stream",
     "text": [
      "Dataset \n",
      "    book_id  author_id  book_genre  reader_id  num_pages  book_rating  \\\n",
      "0      655         52           4      11482        300            4   \n",
      "1     2713         90           3       6479        469            1   \n",
      "2      409         17           2      25472        435            1   \n",
      "3     1150        234          10      23950        529            2   \n",
      "4     2424        390           5      13046        395            2   \n",
      "\n",
      "   publisher_id  publish_year  book_price  text_lang  \n",
      "0             8          2012          94          7  \n",
      "1             8          2012          33          5  \n",
      "2            12          2001         196          4  \n",
      "3            23          2019          79          2  \n",
      "4            20          2010         200          4  \n",
      "\n",
      " Lectores similares, al lector con id: 226  \n",
      " [319, 191, 145, 162, 212]\n"
     ]
    }
   ],
   "source": [
    "# Ejecución del código método 2\n",
    "df=data()\n",
    "pt_df=estruc(df)\n",
    "similar_readers=find_similar_readers(pt_df = pt_df, reader_id = 226, n_recs = 5)\n"
   ]
  },
  {
   "cell_type": "markdown",
   "metadata": {},
   "source": [
    "# Método 3\n",
    "\n",
    "Se hace la recomendación basado por valores boleanos"
   ]
  },
  {
   "cell_type": "code",
   "execution_count": 12,
   "metadata": {},
   "outputs": [],
   "source": [
    "#Selección de los campos\n",
    "def dataset(df):\n",
    "    rdf = df[['reader_id', 'book_id', 'book_rating']]\n",
    "    # Lectura del dataset\n",
    "    reader = Reader(rating_scale=(1, 5))\n",
    "    data = Dataset.load_from_df(rdf, reader)\n",
    "    return rdf, reader, data"
   ]
  },
  {
   "cell_type": "code",
   "execution_count": 13,
   "metadata": {},
   "outputs": [],
   "source": [
    "#Separación de los datos de entrenamiento\n",
    "def splitdata(data):\n",
    "    trainset, testset = train_test_split(data, test_size=0.3,random_state=10)\n",
    "    return trainset, testset"
   ]
  },
  {
   "cell_type": "code",
   "execution_count": 14,
   "metadata": {},
   "outputs": [],
   "source": [
    "# Función basado en el usuario, cambia entre filtrado colaborativo o basado en elementos mediante V o F\n",
    "def mode(trainset):\n",
    "    algo = KNNWithMeans(k=5, sim_options={'name': 'pearson_baseline', 'user_based': False})\n",
    "    algo.fit(trainset)\n",
    "    return algo"
   ]
  },
  {
   "cell_type": "code",
   "execution_count": 15,
   "metadata": {},
   "outputs": [],
   "source": [
    "# Función para ejecutar el modelo\n",
    "def modtest(algo):\n",
    "    test_pred = algo.test(testset)\n",
    "    return test_pred"
   ]
  },
  {
   "cell_type": "code",
   "execution_count": 16,
   "metadata": {},
   "outputs": [],
   "source": [
    "# Función para las métricas\n",
    "def metrics(test_pred):\n",
    "    # get RMSE\n",
    "    print(accuracy.mse(test_pred, verbose=True))\n",
    "    print(accuracy.rmse(test_pred, verbose=True))\n",
    "    print(accuracy.mae(test_pred, verbose=True))"
   ]
  },
  {
   "cell_type": "code",
   "execution_count": 17,
   "metadata": {},
   "outputs": [],
   "source": [
    "def predi(id_usuario, iid):\n",
    "    print(\" \\n La predicción para el usuario con id:\",id_usuario,\" tiene: \\n\",algo.predict(uid = id_usuario, iid = iid))"
   ]
  },
  {
   "cell_type": "code",
   "execution_count": 18,
   "metadata": {
    "scrolled": true
   },
   "outputs": [
    {
     "name": "stdout",
     "output_type": "stream",
     "text": [
      "Dataset \n",
      "    book_id  author_id  book_genre  reader_id  num_pages  book_rating  \\\n",
      "0      655         52           4      11482        300            4   \n",
      "1     2713         90           3       6479        469            1   \n",
      "2      409         17           2      25472        435            1   \n",
      "3     1150        234          10      23950        529            2   \n",
      "4     2424        390           5      13046        395            2   \n",
      "\n",
      "   publisher_id  publish_year  book_price  text_lang  \n",
      "0             8          2012          94          7  \n",
      "1             8          2012          33          5  \n",
      "2            12          2001         196          4  \n",
      "3            23          2019          79          2  \n",
      "4            20          2010         200          4  \n",
      "Estimating biases using als...\n",
      "Computing the pearson_baseline similarity matrix...\n",
      "Done computing similarity matrix.\n",
      "MSE: 8.5885\n",
      "8.588525215348367\n",
      "RMSE: 2.9306\n",
      "2.9306185721359865\n",
      "MAE:  2.5090\n",
      "2.509045670996971\n",
      " \n",
      " La predicción para el usuario con id: 10  tiene: \n",
      " user: 10         item: 43         r_ui = None   est = 5.00   {'actual_k': 0, 'was_impossible': False}\n"
     ]
    }
   ],
   "source": [
    "# Ejecución del código método 3\n",
    "df=data()\n",
    "rdf, reader, data=dataset(df)\n",
    "trainset, testset=splitdata(data)\n",
    "algo=mode(trainset)\n",
    "test_pred=modtest(algo)\n",
    "metrics(test_pred)\n",
    "predi(id_usuario=10, iid=43)"
   ]
  },
  {
   "cell_type": "code",
   "execution_count": null,
   "metadata": {},
   "outputs": [],
   "source": []
  }
 ],
 "metadata": {
  "kernelspec": {
   "display_name": "Python 3",
   "language": "python",
   "name": "python3"
  },
  "language_info": {
   "codemirror_mode": {
    "name": "ipython",
    "version": 3
   },
   "file_extension": ".py",
   "mimetype": "text/x-python",
   "name": "python",
   "nbconvert_exporter": "python",
   "pygments_lexer": "ipython3",
   "version": "3.8.5"
  }
 },
 "nbformat": 4,
 "nbformat_minor": 5
}
